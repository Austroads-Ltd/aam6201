{
 "cells": [
  {
   "cell_type": "markdown",
   "metadata": {},
   "source": [
    "<div>\n",
    "<img src='../../img/WSP_red.png' style='height: 95px; float: left' alt='WSP Logo'/>\n",
    "<img src='../../img/austroads.png' style='height: 115px; float: right' alt='Client Logo'/>\n",
    "</div>\n",
    "<center><h2>AAM6201 Development of Machine-Learning Decision-Support tools for Pavement Asset Management<br>Case Study 1: Project Identification</h2></center>\n"
   ]
  },
  {
   "cell_type": "markdown",
   "metadata": {},
   "source": [
    "Convert raw excel files to csv for faster iterating"
   ]
  },
  {
   "cell_type": "code",
   "execution_count": null,
   "metadata": {},
   "outputs": [],
   "source": [
    "# magic command to autoreload changes in src\n",
    "%load_ext autoreload\n",
    "%autoreload 2\n",
    "\n",
    "import pandas as pd\n",
    "\n",
    "from pathlib import Path\n",
    "from tqdm import tqdm\n",
    "\n",
    "from src import DATA_DIR"
   ]
  },
  {
   "cell_type": "markdown",
   "metadata": {},
   "source": [
    "Rutting - skid"
   ]
  },
  {
   "cell_type": "code",
   "execution_count": null,
   "metadata": {},
   "outputs": [],
   "source": [
    "years = range(2016, 2021)\n",
    "\n",
    "rutting_skid_dfs = []\n",
    "for start_year, end_year in tqdm(zip(years, years[1:]), total=len(years)-1):\n",
    "    df = pd.read_excel(\n",
    "        DATA_DIR / \"raw\" / \"NZTA\"/ \"Raw Data\" / \n",
    "        f\"nAASRA Score _ Rutting Mean _ Skid Resistance _{start_year}_{end_year - 2000}.xlsx\"\n",
    "    )\n",
    "    df[\"Year\"] = f\"{start_year}-{end_year}\"\n",
    "    rutting_skid_dfs.append(df)\n",
    "\n",
    "rutting_skid_df = pd.concat(rutting_skid_dfs, axis=0, ignore_index=True)"
   ]
  },
  {
   "cell_type": "code",
   "execution_count": null,
   "metadata": {},
   "outputs": [],
   "source": [
    "rutting_skid_df.to_csv(\n",
    "    DATA_DIR / \"raw\" / \"NZTA\"/ \"Raw Data\" / \"Rutting_Mean_Skid_Resistance_2016-20.csv\",\n",
    "    index=False\n",
    ")"
   ]
  },
  {
   "cell_type": "markdown",
   "metadata": {},
   "source": [
    "Pavement Structure Layer"
   ]
  },
  {
   "cell_type": "code",
   "execution_count": null,
   "metadata": {},
   "outputs": [],
   "source": [
    "df = pd.read_excel(\n",
    "    DATA_DIR / \"raw\" / \"NZTA\"/ \"Raw Data\" /\n",
    "    \"RAMM_Pavement Structure Layer 08_2021.xlsx\"\n",
    ")\n",
    "\n",
    "df.to_csv(\n",
    "    DATA_DIR / \"raw\" / \"NZTA\"/ \"Raw Data\" /\n",
    "    \"Pavement_Structure_Layer.csv\",\n",
    "    index=False\n",
    ")"
   ]
  },
  {
   "cell_type": "markdown",
   "metadata": {},
   "source": [
    "Pavement Layer"
   ]
  },
  {
   "cell_type": "code",
   "execution_count": null,
   "metadata": {},
   "outputs": [],
   "source": [
    "df = pd.read_excel(\n",
    "    DATA_DIR / \"raw\" / \"NZTA\"/ \"Raw Data\" /\n",
    "    \"RAMM_Pavement Layer 08_2021.xlsx\"\n",
    ")\n",
    "\n",
    "df.to_csv(\n",
    "    DATA_DIR / \"raw\" / \"NZTA\"/ \"Raw Data\" /\n",
    "    \"Pavement_Layer.csv\",\n",
    "    index=False\n",
    ")"
   ]
  },
  {
   "cell_type": "markdown",
   "metadata": {},
   "source": [
    "Carriageway"
   ]
  },
  {
   "cell_type": "code",
   "execution_count": null,
   "metadata": {},
   "outputs": [],
   "source": [
    "df = pd.read_excel(\n",
    "    DATA_DIR / \"raw\" / \"NZTA\"/ \"Raw Data\" /\n",
    "    \"RAMM_Carriageway Section 08_2021.xlsx\",\n",
    "    header=1,\n",
    ")\n",
    "\n",
    "df.to_csv(\n",
    "    DATA_DIR / \"raw\" / \"NZTA\"/ \"Raw Data\" /\n",
    "    \"RAMM_Carriageway.csv\",\n",
    "    index=False\n",
    ")"
   ]
  },
  {
   "cell_type": "markdown",
   "metadata": {},
   "source": [
    "Traffic"
   ]
  },
  {
   "cell_type": "code",
   "execution_count": null,
   "metadata": {},
   "outputs": [],
   "source": [
    "df = pd.read_excel(\n",
    "    DATA_DIR / \"raw\" / \"NZTA\"/ \"Raw Data\" /\n",
    "    \"RAMM Traffic by Carriageway 08_2021.xlsx\"\n",
    ")\n",
    "\n",
    "df.to_csv(\n",
    "    DATA_DIR / \"raw\" / \"NZTA\"/ \"Raw Data\" /\n",
    "    \"Traffic.csv\",\n",
    "    index=False\n",
    ")"
   ]
  },
  {
   "cell_type": "markdown",
   "metadata": {},
   "source": [
    "Surface Structure"
   ]
  },
  {
   "cell_type": "code",
   "execution_count": null,
   "metadata": {},
   "outputs": [],
   "source": [
    "df = pd.read_excel(\n",
    "    DATA_DIR / \"raw\" / \"NZTA\"/ \"Raw Data\" /\n",
    "    \"RAMM Surface Structure 08_2021.xlsx\"\n",
    ")\n",
    "\n",
    "df.to_csv(\n",
    "    DATA_DIR / \"raw\" / \"NZTA\"/ \"Raw Data\" /\n",
    "    \"Surface_Structure.csv\",\n",
    "    index=False\n",
    ")"
   ]
  }
 ],
 "metadata": {
  "kernelspec": {
   "display_name": "Python 3.8.5 ('austroads')",
   "language": "python",
   "name": "python3"
  },
  "language_info": {
   "codemirror_mode": {
    "name": "ipython",
    "version": 3
   },
   "file_extension": ".py",
   "mimetype": "text/x-python",
   "name": "python",
   "nbconvert_exporter": "python",
   "pygments_lexer": "ipython3",
   "version": "3.8.5"
  },
  "orig_nbformat": 4,
  "vscode": {
   "interpreter": {
    "hash": "f2e85832b25afc68061e0fd708023387da1195fcc1539881d474a01f832743a4"
   }
  }
 },
 "nbformat": 4,
 "nbformat_minor": 2
}
