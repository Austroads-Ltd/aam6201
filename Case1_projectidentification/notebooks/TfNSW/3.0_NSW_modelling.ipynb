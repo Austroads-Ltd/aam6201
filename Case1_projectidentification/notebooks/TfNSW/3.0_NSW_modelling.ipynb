{
 "cells": [
  {
   "cell_type": "markdown",
   "metadata": {},
   "source": [
    "<div>\n",
    "<img src='../../img/WSP_red.png' style='height: 95px; float: left' alt='WSP Logo'/>\n",
    "<img src='../../img/austroads.png' style='height: 115px; float: right' alt='Client Logo'/>\n",
    "</div>\n",
    "<center><h2>AAM6201 Development of Machine-Learning Decision-Support tools for Pavement Asset Management<br>Case Study 1: Project Identification</h2></center>\n"
   ]
  },
  {
   "cell_type": "code",
   "execution_count": null,
   "metadata": {},
   "outputs": [],
   "source": [
    "# magic command to autoreload changes in src\n",
    "%load_ext autoreload\n",
    "%autoreload 2\n",
    "\n",
    "import time\n",
    "import pickle\n",
    "import pandas as pd\n",
    "import numpy as np\n",
    "import src.data.resampling as resampling\n",
    "import src.util as util\n",
    "\n",
    "from src.nsw_configs.final_config import CONFIG, DATA_DIR\n",
    "from tqdm.notebook import tqdm\n",
    "from sklearn.dummy import DummyClassifier\n",
    "from sklearn.linear_model import LogisticRegression\n",
    "from sklearn.multioutput import MultiOutputClassifier\n",
    "from sklearn.metrics import multilabel_confusion_matrix\n",
    "from src.visualization.visualize import plot_baseline_metric_by_treatment_type, plot_metric_by_treatment_type, plot_confusion_matrix_by_treatment_type\n",
    "from xgboost import XGBClassifier"
   ]
  },
  {
   "cell_type": "markdown",
   "metadata": {},
   "source": [
    "# MODELLING \n",
    "\n",
    "This notebook runs a Logistic Regression and XGBoost Classifier model on a classifciation problem according to the settings given in the configuration file.\n"
   ]
  },
  {
   "cell_type": "code",
   "execution_count": null,
   "metadata": {},
   "outputs": [],
   "source": [
    "# load data\n",
    "from data import DATA_DIR\n",
    "\n",
    "DATASET_NAME = 'NSW'\n",
    "REPORT_DIR = DATA_DIR.parent / 'reports' / 'figures' / DATASET_NAME\n",
    "if REPORT_DIR.exists() is False:\n",
    "    REPORT_DIR.mkdir(parents=True)\n",
    "\n",
    "DATASET_NAME = 'NSW'\n",
    "feature_data = util.load_data(source=DATA_DIR / 'processed' / DATASET_NAME / \"final\" / 'train_all.csv') \n",
    "label_data = util.load_data(source=DATA_DIR / 'processed' / DATASET_NAME / \"final\" / 'labels_all.csv', header=[0, 1]) \n",
    "\n",
    "DATASET_NAME = 'NSW'\n",
    "experiment_suffix = 'nsw_final_even_split'\n",
    "experiment_prefix = 'train'\n",
    "\n",
    "EXPERIMENT_FOLDER = REPORT_DIR / experiment_suffix\n",
    "SAVE_MODEL_DIR = DATA_DIR.parent / 'models' / 'trained' / DATASET_NAME / (experiment_suffix + '_dir')\n",
    "SAVE_RESULT_DIR = REPORT_DIR.parent.parent / 'raw_results' / DATASET_NAME / (experiment_suffix + '_dir')\n",
    "\n",
    "if SAVE_MODEL_DIR.exists() is False:\n",
    "    SAVE_MODEL_DIR.mkdir(parents=True)\n",
    "if SAVE_RESULT_DIR.exists() is False:\n",
    "    SAVE_RESULT_DIR.mkdir(parents=True)\n",
    "if EXPERIMENT_FOLDER.exists() is False:\n",
    "    EXPERIMENT_FOLDER.mkdir()\n",
    "\n",
    "save_path_meta_dict = {\n",
    "    'experiment_prefix': experiment_prefix,\n",
    "    'experiment_suffix': experiment_suffix,\n",
    "    'experiment_folder': EXPERIMENT_FOLDER,\n",
    "    'dataset_name': DATASET_NAME\n",
    "}"
   ]
  },
  {
   "cell_type": "markdown",
   "metadata": {},
   "source": [
    "# Train code"
   ]
  },
  {
   "cell_type": "code",
   "execution_count": null,
   "metadata": {},
   "outputs": [],
   "source": [
    "def get_model(estimator_type: str, **kwargs):\n",
    "    if estimator_type == 'LR':\n",
    "        return LogisticRegression(max_iter=1000, **kwargs)\n",
    "    elif estimator_type == 'XGB':\n",
    "        return XGBClassifier(objective='binary:logistic', use_label_encoder=False, eval_metric='logloss', **kwargs)\n",
    "    else:\n",
    "        raise NotImplementedError\n",
    "\n",
    "def get_coeff(estimator):\n",
    "    if isinstance(estimator, LogisticRegression):\n",
    "        return estimator.coef_[0]\n",
    "    elif isinstance(estimator, XGBClassifier):\n",
    "        bst = estimator.get_booster()\n",
    "        importance_dicts = []\n",
    "        for importance_type in ['weight', 'gain', 'cover', 'total_gain', 'total_cover']:\n",
    "            importance_dicts.append(bst.get_score(importance_type=importance_type))\n",
    "        return importance_dicts"
   ]
  },
  {
   "cell_type": "code",
   "execution_count": null,
   "metadata": {},
   "outputs": [],
   "source": [
    "def train_multioutput_classifier_with_resampling(estimator_type: str, feature_data, project_label, config, model_params: dict={}):\n",
    "    running_coeffs = [[] for _ in range(len(project_label.columns))]\n",
    "    running_conf_matrix = []\n",
    "    train_running_conf_matrix = []\n",
    "    dummy_running_conf_matrix = {strat: [] for strat in ['stratified', 'most_frequent', 'uniform']}\n",
    "    models = []\n",
    "    dummy_models = {strat: [] for strat in ['stratified', 'most_frequent', 'uniform']}\n",
    "\n",
    "    # training\n",
    "    start_t = time.time()\n",
    "    for i, (x_train, x_test, y_train, y_test) in enumerate(resampling.resample_with_split(feature_data, project_label, config)):\n",
    "\n",
    "        assert y_test.columns.equals(project_label.columns)\n",
    "        assert y_train.columns.equals(project_label.columns)\n",
    "        model = MultiOutputClassifier(get_model(estimator_type, **model_params), n_jobs=6) # ovr for binary data, multinomial for multi-class problem\n",
    "        model.fit(x_train, y_train)\n",
    "        models.append(model)\n",
    "\n",
    "        preds = model.predict(x_test)\n",
    "        train_preds = model.predict(x_train)\n",
    "\n",
    "        # running importance coefficients\n",
    "        for i in range(len(project_label.columns)):\n",
    "            running_coeffs[i].append(get_coeff(model)) # in order of the inputed features: feature_data.columns\n",
    "\n",
    "        # confusion matrix\n",
    "        conf_matrix = multilabel_confusion_matrix(y_test, preds)\n",
    "        running_conf_matrix.append(conf_matrix)\n",
    "        train_conf_matrix = multilabel_confusion_matrix(y_train, train_preds)\n",
    "        train_running_conf_matrix.append(train_conf_matrix)\n",
    "\n",
    "        # train and test dummy model\n",
    "        for strategy in dummy_running_conf_matrix.keys():\n",
    "            dummy = MultiOutputClassifier(DummyClassifier(strategy=strategy))\n",
    "            dummy.fit(x_train, y_train)\n",
    "            dummy_conf_mat = multilabel_confusion_matrix(y_test, dummy.predict(x_test))\n",
    "            dummy_running_conf_matrix[strategy].append(dummy_conf_mat)\n",
    "            dummy_models[strategy].append(dummy)\n",
    "\n",
    "    # turn list of ndarrays into a numpy array\n",
    "    running_conf_matrix = np.array(running_conf_matrix)\n",
    "    train_running_conf_matrix = np.array(train_running_conf_matrix)\n",
    "    for strat in dummy_running_conf_matrix.keys():\n",
    "        dummy_running_conf_matrix[strat] = np.array(dummy_running_conf_matrix[strat])\n",
    "\n",
    "    print(\"Training completed. Time taken: \", time.time() - start_t)\n",
    "    print(\"Saving a sample of trained models...\")\n",
    "    saved_models = np.random.choice(models, size=min(10, len(models)), replace=False)\n",
    "    with open(SAVE_MODEL_DIR / f'train_{estimator_type}_timehorizon_{experiment_suffix}.pkl', 'wb') as f:\n",
    "        pickle.dump(saved_models, f)\n",
    "    with open(SAVE_RESULT_DIR / f'train_{estimator_type}_rawconfmat_{experiment_suffix}.pkl', 'wb') as f:\n",
    "        pickle.dump(running_conf_matrix, f)\n",
    "    with open(SAVE_RESULT_DIR / f'train_{estimator_type}_rawconfmat_trainset_{experiment_suffix}.pkl', 'wb') as f:\n",
    "        pickle.dump(train_running_conf_matrix, f)\n",
    "    save_dummys = {strat: np.random.choice(models, size=min(10, len(models)), replace=False) for strat, models in dummy_models.items()}\n",
    "    with open(SAVE_MODEL_DIR / f'train_dummy_timehorizon_{experiment_suffix}.pkl', 'wb') as f:\n",
    "        pickle.dump(save_dummys, f)\n",
    "\n",
    "    return running_conf_matrix, running_coeffs, train_running_conf_matrix, dummy_running_conf_matrix"
   ]
  },
  {
   "cell_type": "code",
   "execution_count": null,
   "metadata": {},
   "outputs": [],
   "source": [
    "def as_str(df):\n",
    "    return df.astype(str).agg(''.join, axis=1)\n",
    "\n",
    "# filter by having at least a project\n",
    "project_label = label_data.drop(columns=['no_project_flag'], level=0)\n",
    "has_project_train = feature_data\n",
    "\n",
    "while True:\n",
    "    # drop treatment/time pair where they do not have at least 2 classes\n",
    "    key_count = project_label.sum(axis=0)\n",
    "    project_label = project_label.drop(columns=key_count[key_count == 0].index)\n",
    "\n",
    "    # get hash of each sample as string of the flags for each treatment/time pair\n",
    "    target = as_str(project_label)\n",
    "    target_count = target.value_counts()\n",
    "\n",
    "    # drop samples where their unique class (i.e. combination of treatment/time pair) has only 1 value or less\n",
    "    project_label = project_label[target.isin(target_count[target_count > 100].index)]\n",
    "    has_project_train = has_project_train[target.isin(target_count[target_count > 100].index)]\n",
    "\n",
    "    if (project_label.sum(axis=0) != 0).all():\n",
    "        break"
   ]
  },
  {
   "cell_type": "code",
   "execution_count": null,
   "metadata": {},
   "outputs": [],
   "source": [
    "CONFIG['sampling']['method_params']['index_row'] = as_str # set method for identifying type of each row"
   ]
  },
  {
   "cell_type": "code",
   "execution_count": null,
   "metadata": {},
   "outputs": [],
   "source": [
    "with open(SAVE_MODEL_DIR / f'train_labels_columns{\"_\" + experiment_suffix if experiment_suffix else \"\"}.pkl', 'wb') as f:\n",
    "    pickle.dump(project_label.columns, f)"
   ]
  },
  {
   "cell_type": "markdown",
   "metadata": {},
   "source": [
    "Remove classes with less than 100 data points"
   ]
  },
  {
   "cell_type": "markdown",
   "metadata": {},
   "source": [
    "Split 20% for validation, with even split between classes"
   ]
  },
  {
   "cell_type": "code",
   "execution_count": null,
   "metadata": {},
   "outputs": [],
   "source": [
    "validation_split=0.2"
   ]
  },
  {
   "cell_type": "code",
   "execution_count": null,
   "metadata": {},
   "outputs": [],
   "source": [
    "val_idx = np.concatenate([np.random.choice(target[target == target_cls].index, size=int(validation_split*len(target[target == target_cls])), replace=False) for target_cls in target.unique()], axis=0)\n",
    "val_labels = project_label.loc[val_idx]\n",
    "val_features = has_project_train.loc[val_idx]"
   ]
  },
  {
   "cell_type": "code",
   "execution_count": null,
   "metadata": {},
   "outputs": [],
   "source": [
    "train_test_idx = project_label.index[~project_label.index.isin(val_idx)]\n",
    "train_test_labels = project_label.loc[train_test_idx]\n",
    "train_test_features = has_project_train.loc[train_test_idx]"
   ]
  },
  {
   "cell_type": "code",
   "execution_count": null,
   "metadata": {},
   "outputs": [],
   "source": [
    "assert (len(set(train_test_idx).intersection(set(val_idx))) == 0)"
   ]
  },
  {
   "cell_type": "code",
   "execution_count": null,
   "metadata": {},
   "outputs": [],
   "source": [
    "val_features.to_csv(DATA_DIR / 'processed' / DATASET_NAME / \"final\" / 'valid_all.csv', index=False) \n",
    "val_labels.to_csv(DATA_DIR / 'processed' / DATASET_NAME / \"final\" / 'valid_labels_all.csv', index=False) "
   ]
  },
  {
   "cell_type": "markdown",
   "metadata": {},
   "source": [
    "### LR model"
   ]
  },
  {
   "cell_type": "code",
   "execution_count": null,
   "metadata": {},
   "outputs": [],
   "source": [
    "CONFIG.sampling.n_sample_per_fold = 1 \n",
    "CONFIG.sampling.kfold = 5\n",
    "CONFIG.random_seed = 19\n",
    "CONFIG.sampling.method = \"balanced\" if \"balanced\" in experiment_suffix else \"none\""
   ]
  },
  {
   "cell_type": "code",
   "execution_count": null,
   "metadata": {},
   "outputs": [],
   "source": [
    "lr_running_conf_matrix, lr_running_coeffs, lr_train_running_conf_matrix, lr_dummy_running_conf_matrix =\\\n",
    "    train_multioutput_classifier_with_resampling('LR', train_test_features, train_test_labels, CONFIG) "
   ]
  },
  {
   "cell_type": "markdown",
   "metadata": {},
   "source": [
    "Results"
   ]
  },
  {
   "cell_type": "code",
   "execution_count": null,
   "metadata": {},
   "outputs": [],
   "source": [
    "# plot total accuracy for each of type-treatment pair\n",
    "save_path_meta_dict['experiment_prefix'] = 'Testset'\n",
    "plot_metric_by_treatment_type(project_label, lr_running_conf_matrix, estimator_type='LR', **save_path_meta_dict)\n",
    "save_path_meta_dict['experiment_prefix'] = 'Trainset'\n",
    "plot_metric_by_treatment_type(project_label, lr_train_running_conf_matrix, estimator_type='LR', **save_path_meta_dict)"
   ]
  },
  {
   "cell_type": "markdown",
   "metadata": {},
   "source": [
    "Confusion matrices"
   ]
  },
  {
   "cell_type": "code",
   "execution_count": null,
   "metadata": {},
   "outputs": [],
   "source": [
    "save_path_meta_dict['experiment_prefix'] = 'Testset'\n",
    "plot_confusion_matrix_by_treatment_type(project_label, lr_running_conf_matrix, estimator_type='LR', per_row=3, figsize=(18, 16), **save_path_meta_dict)\n",
    "save_path_meta_dict['experiment_prefix'] = 'Trainset'\n",
    "plot_confusion_matrix_by_treatment_type(project_label, lr_train_running_conf_matrix, estimator_type='LR', per_row=3, figsize=(18, 16), **save_path_meta_dict)"
   ]
  },
  {
   "cell_type": "markdown",
   "metadata": {},
   "source": [
    "### XGB model"
   ]
  },
  {
   "cell_type": "code",
   "execution_count": null,
   "metadata": {},
   "outputs": [],
   "source": [
    "CONFIG.sampling.n_sample_per_fold = 1\n",
    "CONFIG.sampling.kfold = 5\n",
    "CONFIG.random_seed = 100\n",
    "CONFIG.sampling.method = \"balanced\" if \"balanced\" in experiment_suffix else \"none\" "
   ]
  },
  {
   "cell_type": "code",
   "execution_count": null,
   "metadata": {
    "tags": []
   },
   "outputs": [],
   "source": [
    "xgb_running_conf_matrix, xgb_running_coeffs, xgb_train_running_conf_matrix, xgb_dummy_running_conf_matrix =\\\n",
    "    train_multioutput_classifier_with_resampling('XGB', train_test_features, train_test_labels, CONFIG) "
   ]
  },
  {
   "cell_type": "code",
   "execution_count": null,
   "metadata": {},
   "outputs": [],
   "source": [
    "save_path_meta_dict['experiment_prefix'] = 'Testset'\n",
    "plot_confusion_matrix_by_treatment_type(project_label, xgb_running_conf_matrix, estimator_type='XGB', per_row=5, **save_path_meta_dict)\n",
    "save_path_meta_dict['experiment_prefix'] = 'Trainset'\n",
    "plot_confusion_matrix_by_treatment_type(project_label, xgb_running_conf_matrix, estimator_type='XGB', per_row=5, **save_path_meta_dict)"
   ]
  },
  {
   "cell_type": "code",
   "execution_count": null,
   "metadata": {},
   "outputs": [],
   "source": [
    "save_path_meta_dict['experiment_prefix'] = 'Testset'\n",
    "plot_metric_by_treatment_type(project_label, xgb_running_conf_matrix, estimator_type='XGB', **save_path_meta_dict)\n",
    "save_path_meta_dict['experiment_prefix'] = 'Trainset'\n",
    "plot_metric_by_treatment_type(project_label, xgb_train_running_conf_matrix, estimator_type='XGB', **save_path_meta_dict)"
   ]
  },
  {
   "cell_type": "code",
   "execution_count": null,
   "metadata": {},
   "outputs": [],
   "source": [
    "save_path_meta_dict['experiment_prefix'] = 'Testset'\n",
    "plot_baseline_metric_by_treatment_type(project_label, xgb_dummy_running_conf_matrix, estimator_type='XGB', **save_path_meta_dict)"
   ]
  },
  {
   "cell_type": "code",
   "execution_count": null,
   "metadata": {},
   "outputs": [],
   "source": [
    "def load_model(estimator_type: str):\n",
    "    with open(SAVE_MODEL_DIR / f'train_{estimator_type}_timehorizon_{experiment_suffix}.pkl', 'rb') as f:\n",
    "    #with open(DATA_DIR.parent / 'models' / 'trained' / 'VIC' / f'train_{estimator_type}_timehorizon{\"_\" + model_suffix if model_suffix else \"\"}.pkl', 'rb') as f:\n",
    "        time_horizon_models = pickle.load(f)\n",
    "    return time_horizon_models\n",
    "\n",
    "# load valid\n",
    "val_features = pd.read_csv(DATA_DIR / 'processed' / DATASET_NAME / \"final\" / 'valid_all.csv') \n",
    "val_labels = pd.read_csv(DATA_DIR / 'processed' / DATASET_NAME / \"final\" / 'valid_labels_all.csv', header=[0, 1]) \n",
    "\n",
    "def as_str(df):\n",
    "    return df.astype(str).agg(''.join, axis=1)\n",
    "\n",
    "project_label_valid = val_labels.copy()\n",
    "with open(SAVE_MODEL_DIR / f'train_labels_columns{\"_\" + experiment_suffix if experiment_suffix else \"\"}.pkl', 'rb') as f:\n",
    "    prediction_columns = pickle.load(f)\n",
    "\n",
    "dropped_columns = project_label_valid.columns.difference(prediction_columns)\n",
    "\n",
    "# if PAD is true, evaluate label not seen in training with most common class\n",
    "PAD = False \n",
    "\n",
    "if not PAD:\n",
    "    # for transfer\n",
    "    inner = prediction_columns.intersection(project_label_valid.columns, sort=False) \n",
    "    project_label_valid = project_label_valid[inner]"
   ]
  },
  {
   "cell_type": "code",
   "execution_count": null,
   "metadata": {},
   "outputs": [],
   "source": [
    "save_path_meta_dict_val = {\n",
    "    'experiment_prefix': \"valid\",\n",
    "    'experiment_suffix': experiment_suffix,\n",
    "    'experiment_folder': EXPERIMENT_FOLDER,\n",
    "    'dataset_name': DATASET_NAME\n",
    "}"
   ]
  },
  {
   "cell_type": "code",
   "execution_count": null,
   "metadata": {},
   "outputs": [],
   "source": [
    "xgb_models = load_model(\"XGB\")\n",
    "val_conf_matrix = []\n",
    "\n",
    "for model in tqdm(xgb_models): \n",
    "    preds = model.predict(val_features)\n",
    "    conf_matrix = multilabel_confusion_matrix(val_labels, preds)\n",
    "    val_conf_matrix.append(conf_matrix)\n",
    "\n",
    "with open(SAVE_RESULT_DIR / f'{save_path_meta_dict_val[\"experiment_prefix\"]}_XGB_rawconfmat_{save_path_meta_dict_val[\"experiment_suffix\"]}.pkl', 'wb') as f:\n",
    "    pickle.dump(np.array(val_conf_matrix), f)"
   ]
  },
  {
   "cell_type": "code",
   "execution_count": null,
   "metadata": {},
   "outputs": [],
   "source": [
    "def evaluate_baseline(feature_data: pd.DataFrame, project_label: pd.DataFrame, dropped_columns: pd.Index, prediction_columns: pd.Index, pad: bool=True):\n",
    "    models_by_strat = load_model('dummy')\n",
    "    running_conf_matrix = {strat: [] for strat in models_by_strat.keys()}\n",
    "    \n",
    "    if pad is False:\n",
    "        # the model can predict more than what we want to evaluate on\n",
    "        # so we locate only the desired columns in project label\n",
    "        inner = prediction_columns.intersection(project_label.columns, sort=False) \n",
    "        assert len(project_label.columns) == len(inner) # labels passed in must all be available\n",
    "        project_label = project_label[inner] # ensure order is correct\n",
    "    else:\n",
    "        # check all labels to be evaluated is in prediction columns and padded dropped columns\n",
    "        assert set(project_label.columns) - set(prediction_columns.append(dropped_columns)) == set()\n",
    "        assert len(prediction_columns.intersection(dropped_columns)) == 0\n",
    "        inner = project_label.columns\n",
    "\n",
    "    start_t = time.time()\n",
    "    for strat, models in models_by_strat.items(): \n",
    "        for model in models:\n",
    "            preds = model.predict(feature_data)\n",
    "            # pad preds with columns we dropped\n",
    "            if pad:\n",
    "                preds = np.hstack((preds, np.zeros((preds.shape[0], len(dropped_columns)))))\n",
    "                preds = pd.DataFrame(preds, columns=prediction_columns.append(dropped_columns))[inner]\n",
    "            else:\n",
    "                preds = pd.DataFrame(preds, columns=prediction_columns)[inner]\n",
    "            # confusion matrix\n",
    "            conf_matrix = multilabel_confusion_matrix(project_label, preds)\n",
    "            running_conf_matrix[strat].append(conf_matrix)\n",
    "\n",
    "    with open(SAVE_RESULT_DIR / f'valid_dummy_rawconfmat_{save_path_meta_dict_val[\"experiment_suffix\"]}.pkl', 'wb') as f:\n",
    "        pickle.dump(running_conf_matrix, f)\n",
    "\n",
    "    print(\"Evaluation completed. Time taken: \", time.time() - start_t)\n",
    "    return running_conf_matrix"
   ]
  },
  {
   "cell_type": "code",
   "execution_count": null,
   "metadata": {},
   "outputs": [],
   "source": [
    "plot_confusion_matrix_by_treatment_type(val_labels, val_conf_matrix, estimator_type='XGB', per_row=5, **save_path_meta_dict_val)\n",
    "plot_metric_by_treatment_type(val_labels, val_conf_matrix, estimator_type='XGB', **save_path_meta_dict_val)"
   ]
  },
  {
   "cell_type": "code",
   "execution_count": null,
   "metadata": {},
   "outputs": [],
   "source": [
    "xgb_dummy_running_conf_matrix = evaluate_baseline(val_features, val_labels, dropped_columns=dropped_columns, prediction_columns=prediction_columns, pad=PAD)\n",
    "plot_baseline_metric_by_treatment_type(project_label, xgb_dummy_running_conf_matrix, estimator_type='XGB', **save_path_meta_dict)"
   ]
  }
 ],
 "metadata": {
  "kernelspec": {
   "display_name": "Python 3.8.7 64-bit ('austroads_taskA')",
   "language": "python",
   "name": "python3"
  },
  "language_info": {
   "codemirror_mode": {
    "name": "ipython",
    "version": 3
   },
   "file_extension": ".py",
   "mimetype": "text/x-python",
   "name": "python",
   "nbconvert_exporter": "python",
   "pygments_lexer": "ipython3",
   "version": "3.8.7"
  },
  "vscode": {
   "interpreter": {
    "hash": "8558eca60468214515578ef8dc9d1a3cd923df7ae0c7c3b68d36aadcc2987ab9"
   }
  }
 },
 "nbformat": 4,
 "nbformat_minor": 4
}
