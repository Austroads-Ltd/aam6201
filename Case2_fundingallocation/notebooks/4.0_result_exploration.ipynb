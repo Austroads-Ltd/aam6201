{
 "cells": [
  {
   "cell_type": "markdown",
   "metadata": {},
   "source": [
    "<div>\n",
    "<img src='../img/WSP_red.png' style='height: 95px; float: left' alt='WSP Logo'/>\n",
    "<img src='../img/austroads.png' style='height: 115px; float: right' alt='Client Logo'/>\n",
    "</div>\n",
    "<center><h2>AAM6201 Development of Machine-Learning Decision-Support tools for Pavement Asset Management<br>Case Study 2: Funding Allocation\n",
    "</h2></center>"
   ]
  },
  {
   "cell_type": "code",
   "execution_count": null,
   "metadata": {},
   "outputs": [],
   "source": [
    "%load_ext autoreload\n",
    "%autoreload 2\n",
    "\n",
    "import numpy as np\n",
    "import pandas as pd\n",
    "import matplotlib.pyplot as plt\n",
    "import matplotlib.colors as colors\n",
    "import matplotlib.cm as cm\n",
    "import plotly.graph_objects as go\n",
    "import plotly.express as px\n",
    "\n",
    "from src.util import *\n",
    "from src.config import CONFIG\n",
    "from hdbscan import HDBSCAN\n",
    "from pathlib import Path\n",
    "from itertools import product"
   ]
  },
  {
   "cell_type": "code",
   "execution_count": null,
   "metadata": {},
   "outputs": [],
   "source": [
    "large_result = Path('.').resolve().parent / 'data' / 'aggregated_results.csv'\n",
    "SAVE_FIG_DIR = Path('.').resolve().parent / 'reports' / 'figures'\n",
    "large_result_df = pd.read_csv(large_result)\n",
    "large_result_df = large_result_df[large_result_df['verification_result'] == 1] \n",
    "\n",
    "input_data = load_data()\n",
    "cost = [\n",
    "    input_data[\n",
    "        pd.Series(row['selection'].strip('[]').split(', ')).astype(float) == 1\n",
    "    ]['Cost'].sum() for _, row in large_result_df.iterrows()\n",
    "]\n"
   ]
  },
  {
   "cell_type": "code",
   "execution_count": null,
   "metadata": {},
   "outputs": [],
   "source": [
    "import matplotlib.cm as cm\n",
    "import matplotlib\n",
    "\n",
    "df = large_result_df \n",
    "z = df['dLoS']\n",
    "norm = matplotlib.colors.Normalize(vmin=z.min(), vmax=z.max(), clip=True)\n",
    "mapper = cm.ScalarMappable(norm=norm, cmap=cm.get_cmap('RdBu'))\n",
    "\n",
    "fig=plt.figure(figsize=(22, 12))\n",
    "plt.subplot(121)\n",
    "plt.scatter(df['metro_perc'], df['freight_perc'], color=list(map(mapper.to_rgba, z))) \n",
    "benchmark_z = input_data['nd$200MPCI'].sum()\n",
    "selected_benchmark = input_data[input_data['$200MCost'] > 0]\n",
    "benchmark_x = selected_benchmark[selected_benchmark['Metro'] == 1]['Cost'].sum() / selected_benchmark['Cost'].sum()\n",
    "benchmark_y = selected_benchmark[selected_benchmark['Freight'] == 1]['Cost'].sum() / selected_benchmark['Cost'].sum()\n",
    "plt.axvline(x=benchmark_x, linestyle='--', color='red', linewidth=1, zorder=-1)\n",
    "plt.axhline(y=benchmark_y, linestyle='--', color='red', linewidth=1, zorder=-1)\n",
    "plt.scatter(x=[benchmark_x], y=[benchmark_y], color=[mapper.to_rgba(benchmark_z)], marker='^')\n",
    "\n",
    "plt.xlabel('Metro Percentage')\n",
    "plt.ylabel('Freight Percentage')\n",
    "plt.title('$\\Delta$LoS by Percentage')\n",
    "plt.grid()\n",
    "plt.subplot(122)\n",
    "plt.grid()\n",
    "plt.scatter(df['Metro'], df['Freight'], color=list(map(mapper.to_rgba, z)))\n",
    "plt.xlabel('Metro Penalty')\n",
    "plt.ylabel('Freight Penalty')\n",
    "plt.title('$\\Delta$LoS by Penalty')\n",
    "plt.colorbar(mapper)\n",
    "plt.suptitle('Change in LoS after applying treatemnts vs before applying any treatments.\\nSections not receiving treatment will degrade.')\n",
    "plt.tight_layout()\n",
    "plt.show()"
   ]
  },
  {
   "cell_type": "code",
   "execution_count": null,
   "metadata": {},
   "outputs": [],
   "source": [
    "import matplotlib.cm as cm\n",
    "import matplotlib\n",
    "\n",
    "input_data = load_data()\n",
    "df = large_result_df.copy()\n",
    "\n",
    "norm = matplotlib.colors.Normalize(vmin=df['dLoS'].min(), vmax=df['dLoS'].max(), clip=True)\n",
    "mapper = cm.ScalarMappable(norm=norm, cmap=cm.get_cmap('RdBu'))\n",
    "layers = np.linspace(0, CONFIG['budget'], num=10) # 9 layers ~22.2$ MIL apart\n",
    "df['budget_bins'] = np.digitize(cost, bins=layers, right=True)\n",
    "fig, axs = plt.subplots(3, 3, figsize=(21, 21))\n",
    "axs = axs.ravel()\n",
    "\n",
    "for bin_idx in df['budget_bins'].unique():\n",
    "    inner = df[df['budget_bins'] == bin_idx]\n",
    "    z = inner['dLoS']\n",
    "    axs[bin_idx - 1].scatter(inner['metro_perc'], inner['freight_perc'], color=list(map(mapper.to_rgba, z)))\n",
    "    axs[bin_idx - 1].set_xlim((0, 1))\n",
    "    axs[bin_idx - 1].set_ylim((0, 1))\n",
    "    axs[bin_idx - 1].set_xlabel('Metro Percentage')\n",
    "    axs[bin_idx - 1].set_ylabel('Freght Percentage')\n",
    "    axs[bin_idx - 1].set_title(f'Budget used between \\${layers[bin_idx - 1] / (10**6):.2f}M and \\${layers[bin_idx] / (10**6):.2f}M')\n",
    "    axs[bin_idx - 1].grid(True)\n",
    "    fig.colorbar(mapper, ax=axs[bin_idx - 1])\n",
    "\n",
    "fig.suptitle('$\\Delta$LoS by Percentage by Budget used')\n",
    "fig.tight_layout(rect=[0, 0, 1, 0.98])\n",
    "plt.savefig(SAVE_FIG_DIR / '2d_dLoS_200mil_layer.jpg')\n",
    "plt.show()"
   ]
  },
  {
   "cell_type": "code",
   "execution_count": null,
   "metadata": {},
   "outputs": [],
   "source": [
    "import matplotlib.cm as cm\n",
    "import matplotlib\n",
    "\n",
    "input_data = load_data()\n",
    "df = large_result_df \n",
    "norm = matplotlib.colors.Normalize(vmin=0, vmax=1, clip=True)\n",
    "mapper = cm.ScalarMappable(norm=norm, cmap=cm.get_cmap('RdBu'))\n",
    "\n",
    "fig=plt.figure(figsize=(22, 12))\n",
    "plt.subplot(121)\n",
    "plt.scatter(df['Metro'], df['Freight'], color=list(map(mapper.to_rgba, df['metro_perc']))) \n",
    "plt.xlabel('Metro Penalty')\n",
    "plt.ylabel('Freight Penalty')\n",
    "plt.title('Metro % by Penalties')\n",
    "plt.grid()\n",
    "plt.subplot(122)\n",
    "plt.grid()\n",
    "plt.scatter(df['Metro'], df['Freight'], color=list(map(mapper.to_rgba, df['freight_perc'])))\n",
    "plt.xlabel('Metro Penalty')\n",
    "plt.ylabel('Freight Penalty')\n",
    "plt.title('Freight % by Penalty')\n",
    "plt.colorbar(mapper)\n",
    "plt.suptitle('Split by penalties')\n",
    "plt.tight_layout()\n",
    "plt.show()"
   ]
  }
 ],
 "metadata": {
  "kernelspec": {
   "display_name": "Python 3.8.7 64-bit ('austroads_tasB')",
   "language": "python",
   "name": "python3"
  },
  "language_info": {
   "codemirror_mode": {
    "name": "ipython",
    "version": 3
   },
   "file_extension": ".py",
   "mimetype": "text/x-python",
   "name": "python",
   "nbconvert_exporter": "python",
   "pygments_lexer": "ipython3",
   "version": "3.8.7"
  },
  "orig_nbformat": 4,
  "vscode": {
   "interpreter": {
    "hash": "120d371c1c8720cd5a12066d3bbd85e790a879557d7fc272284b87be7f8195f8"
   }
  }
 },
 "nbformat": 4,
 "nbformat_minor": 2
}
