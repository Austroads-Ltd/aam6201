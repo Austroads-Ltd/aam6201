{
 "cells": [
  {
   "cell_type": "markdown",
   "id": "b8e89e66",
   "metadata": {},
   "source": [
    "<div>\n",
    "<img src='../img/WSP_red.png' style='height: 95px; float: left' alt='WSP Logo'/>\n",
    "<img src='../img/austroads.png' style='height: 115px; float: right' alt='Client Logo'/>\n",
    "</div>\n",
    "<center><h2>AAM6201 Development of Machine-Learning Decision-Support tools for Pavement Asset Management<br>Case Study 2: Funding Allocation\n",
    "</h2></center>\n"
   ]
  },
  {
   "cell_type": "code",
   "execution_count": null,
   "id": "2457837c-9b26-4e34-a8e0-9c74fa59a824",
   "metadata": {},
   "outputs": [],
   "source": [
    "import time\n",
    "import datetime\n",
    "import pickle\n",
    "\n",
    "import numpy as np\n",
    "import pandas as pd\n",
    "import matplotlib.pyplot as plt\n",
    "import plotly.graph_objects as go\n",
    "from scipy.optimize import differential_evolution\n",
    "\n",
    "from data import DATA_DIR\n",
    "from pathlib import Path\n",
    "from src.config import CONFIG\n",
    "from src.util import load_data, get_objective_value, var_dict_to_series\n",
    "from src.inner_strategy import early_stop\n",
    "from src.forms.ip_form import make_problem_penalties"
   ]
  },
  {
   "cell_type": "markdown",
   "id": "c6de18f4-7869-409f-901f-dd3bf3485ff8",
   "metadata": {},
   "source": [
    "Plot util"
   ]
  },
  {
   "cell_type": "code",
   "execution_count": null,
   "id": "fefbb666-6855-413a-b1f4-e8b11b344e1c",
   "metadata": {},
   "outputs": [],
   "source": [
    "def plot_output_plane(\n",
    "    split_x: np.ndarray, \n",
    "    split_y: np.ndarray, \n",
    "    los_z: np.ndarray,\n",
    "    sequence_color: np.ndarray,\n",
    "    x_label: str='X-Axis',\n",
    "    y_label: str='Y-Axis',\n",
    "    z_label: str='Z-Axis',\n",
    "    color_label: str='Sequence',\n",
    "    **kwargs\n",
    "):\n",
    "    \"\"\"\n",
    "    Plot 3d plot given values of budget splits for 2 criteria on the x and y axis, \n",
    "    as well as their corresponding level of service on z axis\n",
    "    \"\"\"    \n",
    "    assert split_x.ndim == 1 and split_y.ndim == 1 and los_z.ndim == 1 and sequence_color.ndim == 1\n",
    "    assert len(split_y) == len(split_x) and len(split_y) == len(los_z) == len(sequence_color)\n",
    "\n",
    "    fig = go.Figure(data=[go.Scatter3d(\n",
    "        x=split_x,\n",
    "        y=split_y,\n",
    "        z=los_z,\n",
    "        mode='markers',\n",
    "        marker=dict(\n",
    "            color=sequence_color,\n",
    "            colorbar=dict(\n",
    "                title=dict(\n",
    "                    text=color_label\n",
    "                )\n",
    "            ),\n",
    "        ),\n",
    "        **kwargs\n",
    "    )])\n",
    "\n",
    "    fig.update_layout(\n",
    "        autosize=False,\n",
    "        width=1000,\n",
    "        height=800,\n",
    "        title='Level of Service against Splits',\n",
    "        scene=dict(\n",
    "            yaxis_title=y_label,\n",
    "            xaxis_title=x_label,\n",
    "            zaxis_title=z_label,\n",
    "        ),\n",
    "        margin=dict(l=0, r=0, b=0, t=0)\n",
    "    )\n",
    "    return fig"
   ]
  },
  {
   "cell_type": "markdown",
   "id": "aa1d0cbd",
   "metadata": {},
   "source": [
    "# Outer optimisation for optimal penalties"
   ]
  },
  {
   "cell_type": "code",
   "execution_count": null,
   "id": "e6d16efe",
   "metadata": {},
   "outputs": [],
   "source": [
    "def outer_objective(x, *args):\n",
    "    \"\"\"Function to evaluate the inputs x given by the optimiser. A list is passed in to capture the history of changes\"\"\"\n",
    "    df_pickle = args[0]\n",
    "    seq = args[1]\n",
    "    df = pickle.loads(df_pickle)\n",
    "    pen_dict = {CONFIG['metro_penalty_col']: x[0], CONFIG['freight_penalty_col']: x[1]}\n",
    "    (status, _, var_dict, objective), verifications = early_stop(df, make_problem_penalties, patience=3, penalties=pen_dict, budget=float(CONFIG['budget']))\n",
    "    obj_dict = get_objective_value(df, var_dict_to_series(var_dict))\n",
    "    seq.append({**obj_dict, **pen_dict})\n",
    "    return -obj_dict[\"Absolute_LoS\"]"
   ]
  },
  {
   "cell_type": "code",
   "execution_count": null,
   "id": "2552a5a8-e651-44ce-9359-7b73516fd664",
   "metadata": {},
   "outputs": [],
   "source": [
    "df = load_data()\n",
    "df_pickle = pickle.dumps(df)\n",
    "bounds = [(-100, 100)] * 2\n",
    "sequence = []\n",
    "start = time.time()\n",
    "opt_res = differential_evolution(outer_objective, bounds=bounds, args=(df_pickle, sequence), seed=1, disp=True)\n",
    "\n",
    "print(\"Finished in {}\".format(datetime.timedelta(seconds=time.time()-start)))"
   ]
  },
  {
   "cell_type": "markdown",
   "id": "17bd76a8",
   "metadata": {},
   "source": [
    "## Process result"
   ]
  },
  {
   "cell_type": "code",
   "execution_count": null,
   "id": "2bcaf398-2b3a-4275-8ee5-74c48834de3e",
   "metadata": {},
   "outputs": [],
   "source": [
    "# run the optimisation problem with found optimal penalties\n",
    "df = pickle.loads(df_pickle)\n",
    "pen_dict = {CONFIG['metro_penalty_col']: opt_res.x[0], CONFIG['freight_penalty_col']: opt_res.x[1]}\n",
    "(status, _, var_dict, objective), verifications = early_stop(df, make_problem_penalties, patience=3, penalties=pen_dict, budget=float(CONFIG['budget']))\n",
    "obj_dict = get_objective_value(df, var_dict_to_series(var_dict))"
   ]
  },
  {
   "cell_type": "code",
   "execution_count": null,
   "id": "a2b55203-aa56-4f24-9776-03496385e35d",
   "metadata": {},
   "outputs": [],
   "source": [
    "seq_df = pd.DataFrame.from_records(sequence) # sequence stores output of the inner \n",
    "x = seq_df[\"metro_perc\"]\n",
    "y = seq_df[\"freight_perc\"]\n",
    "z = seq_df[\"Absolute_LoS\"]\n",
    "color = seq_df.index\n",
    "\n",
    "# Absolute LoS by percentage\n",
    "fig = plot_output_plane(x, y, z, color, x_label='Metro Percentage', y_label='Freight Percentage', z_label='Level of Service', color_label='Iteration')\n",
    "fig.show()"
   ]
  },
  {
   "cell_type": "code",
   "execution_count": null,
   "id": "90ef3432-f65b-4461-a7b2-d210085c2718",
   "metadata": {},
   "outputs": [],
   "source": [
    "x = seq_df[\"Metro\"]\n",
    "y = seq_df[\"Freight\"]\n",
    "z = seq_df[\"Absolute_LoS\"]\n",
    "color = seq_df.index\n",
    "\n",
    "# Absolute LoS by penalties\n",
    "fig = plot_output_plane(x, y, z, color, x_label='Metro Penalty', y_label='Freight Penalty', z_label='Level of Service', color_label='Iteration')\n",
    "fig.show()"
   ]
  },
  {
   "cell_type": "code",
   "execution_count": null,
   "id": "978f8309-e3e9-4169-aede-851484835d6c",
   "metadata": {},
   "outputs": [],
   "source": [
    "# plot -LoS  as function of time (iteration)\n",
    "(-seq_df[\"Absolute_LoS\"]).plot(figsize=(12, 12), xlabel=\"Iteration\", ylabel=\"Negative Absolute LoS\", title=\"Differential Evolution Convergence\")\n",
    "plt.savefig(Path('.').resolve().parent / \"reports\" / \"figures\" / \"de_convergence.png\")"
   ]
  }
 ],
 "metadata": {
  "kernelspec": {
   "display_name": "Python 3.8.7 64-bit ('austroads_tasB')",
   "language": "python",
   "name": "python3"
  },
  "language_info": {
   "codemirror_mode": {
    "name": "ipython",
    "version": 3
   },
   "file_extension": ".py",
   "mimetype": "text/x-python",
   "name": "python",
   "nbconvert_exporter": "python",
   "pygments_lexer": "ipython3",
   "version": "3.8.7"
  },
  "vscode": {
   "interpreter": {
    "hash": "120d371c1c8720cd5a12066d3bbd85e790a879557d7fc272284b87be7f8195f8"
   }
  }
 },
 "nbformat": 4,
 "nbformat_minor": 5
}
