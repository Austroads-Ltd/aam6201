{
 "cells": [
  {
   "cell_type": "markdown",
   "metadata": {},
   "source": [
    "<div>\n",
    "<img src='../img/WSP_red.png' style='height: 95px; float: left' alt='WSP Logo'/>\n",
    "<img src='../img/austroads.png' style='height: 115px; float: right' alt='Client Logo'/>\n",
    "</div>\n",
    "<center><h2>AAM6201 Development of Machine-Learning Decision-Support tools for Pavement Asset Management<br>Case Study 2: Funding Allocation\n",
    "</h2></center>\n"
   ]
  },
  {
   "cell_type": "code",
   "execution_count": null,
   "metadata": {},
   "outputs": [],
   "source": [
    "import numpy as np\n",
    "import pandas as pd\n",
    "import seaborn as sns\n",
    "import matplotlib.pyplot as plt\n",
    "\n",
    "from pathlib import Path"
   ]
  },
  {
   "cell_type": "code",
   "execution_count": null,
   "metadata": {},
   "outputs": [],
   "source": [
    "DATA = Path('.').resolve().parent / 'data' / 'NLTP_Unlimited_dTAGTL.csv'\n",
    "df = pd.read_excel(DATA.parent / DATA.name.replace('csv', 'xlsx'), sheet_name='Data')"
   ]
  },
  {
   "cell_type": "code",
   "execution_count": null,
   "metadata": {},
   "outputs": [],
   "source": [
    "from src.util import load_data\n",
    "\n",
    "prev_df = pd.read_csv(DATA.parent / DATA.name.replace('xlsx', 'csv'))"
   ]
  },
  {
   "cell_type": "markdown",
   "metadata": {},
   "source": [
    "Quick cleaning"
   ]
  },
  {
   "cell_type": "code",
   "execution_count": null,
   "metadata": {},
   "outputs": [],
   "source": [
    "df.loc[:, 'DNdPCI'] = df['DNPCI_After'] - df['DNPCI_Before']\n",
    "df.loc[:, 'Freight'] = df['group_desc'].str.contains(r'(High Volume|National|Regional)', regex=True)\n",
    "df.loc[:, 'Freight_2'] = df['group_desc'].str.contains(r'(:?High Volume|National|Regional)', regex=True)"
   ]
  },
  {
   "cell_type": "code",
   "execution_count": null,
   "metadata": {},
   "outputs": [],
   "source": [
    "lengths = df['To'] - df['From']\n",
    "lengths.round(decimals=-2).value_counts().sort_index().plot(kind='bar')\n",
    "plt.title('Length of road sections, rounded to 100')\n",
    "plt.show()"
   ]
  },
  {
   "cell_type": "code",
   "execution_count": null,
   "metadata": {},
   "outputs": [],
   "source": [
    "lengths = df['To'] - df['From']\n",
    "lengths.plot(kind='hist', bins=60)\n",
    "plt.title('Length of valid sections, rounded to 100')\n",
    "plt.show()"
   ]
  }
 ],
 "metadata": {
  "kernelspec": {
   "display_name": "Python 3.8.7 64-bit ('austroads_tasB')",
   "language": "python",
   "name": "python3"
  },
  "language_info": {
   "codemirror_mode": {
    "name": "ipython",
    "version": 3
   },
   "file_extension": ".py",
   "mimetype": "text/x-python",
   "name": "python",
   "nbconvert_exporter": "python",
   "pygments_lexer": "ipython3",
   "version": "3.8.7"
  },
  "orig_nbformat": 4,
  "vscode": {
   "interpreter": {
    "hash": "120d371c1c8720cd5a12066d3bbd85e790a879557d7fc272284b87be7f8195f8"
   }
  }
 },
 "nbformat": 4,
 "nbformat_minor": 2
}
